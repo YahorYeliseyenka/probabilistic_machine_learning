{
 "cells": [
  {
   "cell_type": "markdown",
   "metadata": {},
   "source": [
    "# 2018/2019 - Task List 2\n",
    "\n",
    "1. Visualize (pmf, mean, variance) of pseudo random number generators (parametrized) that follows distributions:\n",
    "\n",
    "    - Single gaussian \n",
    "    - Two combined gaussian distributions \n",
    "    - N combined gaussian distributions \n",
    "\n",
    "\n",
    "2. Student applied for 9 faculties, acceptance chance for each faculty was 0.01. Unfortunately student was not accepted to any. What is the probability of that situation? Write a function that will solve that problem (parametrized), use exact method and binomials based solution with parameterized number of trials (binomial)"
   ]
  },
  {
   "cell_type": "markdown",
   "metadata": {},
   "source": [
    "## Required imports"
   ]
  },
  {
   "cell_type": "code",
   "execution_count": 1,
   "metadata": {},
   "outputs": [],
   "source": [
    "%matplotlib inline\n",
    "import pyro\n",
    "import torch\n",
    "import numpy as np\n",
    "import matplotlib.pyplot as plt\n",
    "\n",
    "from matplotlib import animation, rc\n",
    "from IPython.display import HTML"
   ]
  },
  {
   "cell_type": "markdown",
   "metadata": {},
   "source": [
    "# Binomial sampling"
   ]
  },
  {
   "cell_type": "code",
   "execution_count": 165,
   "metadata": {},
   "outputs": [
    {
     "name": "stdout",
     "output_type": "stream",
     "text": [
      "[0.01, 0.01, 0.01, 0.01, 0.01, 0.01, 0.01, 0.01, 0.01]\n"
     ]
    }
   ],
   "source": [
    "m = pyro.distributions.Binomial(1, torch.Tensor(9*[0.01]))\n",
    "m.sample()"
   ]
  },
  {
   "cell_type": "code",
   "execution_count": 33,
   "metadata": {},
   "outputs": [
    {
     "data": {
      "text/plain": [
       "tensor([1., 1., 1., 0., 1.])"
      ]
     },
     "execution_count": 33,
     "metadata": {},
     "output_type": "execute_result"
    }
   ],
   "source": [
    "m = pyro.distributions.Binomial(1, torch.Tensor(5*[0.5]))\n",
    "m.sample()"
   ]
  },
  {
   "cell_type": "code",
   "execution_count": 42,
   "metadata": {},
   "outputs": [
    {
     "data": {
      "text/plain": [
       "tensor([-0.6931, -0.6931, -0.6931, -0.6931, -0.6931])"
      ]
     },
     "execution_count": 42,
     "metadata": {},
     "output_type": "execute_result"
    }
   ],
   "source": [
    "m = pyro.distributions.Binomial(1, torch.Tensor(5*[0.5]))\n",
    "m.log_prob(torch.Tensor([1]))"
   ]
  },
  {
   "cell_type": "markdown",
   "metadata": {},
   "source": [
    "## Task 1"
   ]
  },
  {
   "cell_type": "code",
   "execution_count": 250,
   "metadata": {},
   "outputs": [
    {
     "data": {
      "image/png": "[encoded data removed]",
      "text/plain": [
       "<Figure size 432x288 with 1 Axes>"
      ]
     },
     "metadata": {
      "needs_background": "light"
     },
     "output_type": "display_data"
    }
   ],
   "source": [
    "import seaborn as sns\n",
    "import math\n",
    "\n",
    "def showNormalSamples(sampleSize, mean, var):\n",
    "    y = []\n",
    "    for i in range(len(mean)):\n",
    "        x = np.random.normal(mean[i], var[i], sampleSize)\n",
    "        for z in range(len(x)):\n",
    "            y.append(x[z])\n",
    "        \n",
    "        sns.kdeplot(x, shade=True)\n",
    "\n",
    "    plt.axvline(np.mean(y), color = 'red')\n",
    "    plt.axvline(np.mean(y) + np.var(y), color = 'blue')\n",
    "    plt.axvline(np.mean(y) - np.var(y), color = 'blue')\n",
    "    sns.kdeplot(y, shade=True)\n",
    "    \n",
    "showNormalSamples(2, [1,3,5], [1,1,1])\n"
   ]
  },
  {
   "cell_type": "markdown",
   "metadata": {},
   "source": [
    "## Task 2"
   ]
  },
  {
   "cell_type": "code",
   "execution_count": 265,
   "metadata": {},
   "outputs": [
    {
     "name": "stdout",
     "output_type": "stream",
     "text": [
      "0.9135172474836408\n",
      "0.92\n"
     ]
    }
   ],
   "source": [
    "# def draw(repeatNum, main_values, real_values):\n",
    "#     values = [i for i in range(0, repeatNum)]\n",
    "#     fig, ax = plt.subplots()\n",
    "#     line, = ax.plot(values, main_values, lw=2)\n",
    "#     line2, = ax.plot(values, real_values, lw=2)\n",
    "#     plt.ylabel('Probability')\n",
    "#     plt.xlabel('Number of tries')\n",
    "\n",
    "def silnia(x):\n",
    "    return x * silnia(x-1) if x != 0 else 1\n",
    "\n",
    "def getProb(triesNum, failsNum, acceptanceChance):\n",
    "    return (silnia(triesNum)/(silnia(failsNum)*silnia(triesNum-failsNum)))*pow(acceptanceChance, failsNum)*pow((1-acceptanceChance),triesNum-failsNum)\n",
    "\n",
    "def studentsSolution(triesNum = 9, failsNum = 9, acceptanceChance = 0.99, repeatNum = 100):\n",
    "    \n",
    "    mainProb = getProb(triesNum, failsNum, acceptanceChance)\n",
    "    print(mainProb)\n",
    "    \n",
    "    for _ in range(repeatNum):\n",
    "        count = 0\n",
    "        m = pyro.distributions.Binomial(1, torch.Tensor(triesNum*[acceptanceChance]))\n",
    "        for i in range(triesNum):\n",
    "            if m.sample()[i] == 1.0 :\n",
    "                count += 1\n",
    "                continue\n",
    "    \n",
    "    print(1-count/repeatNum)\n",
    "    \n",
    "#     draw(repeatNum, main_values, real_values)\n",
    "    \n",
    "studentsSolution()"
   ]
  },
  {
   "cell_type": "markdown",
   "metadata": {},
   "source": [
    "# Task 3"
   ]
  },
  {
   "cell_type": "code",
   "execution_count": null,
   "metadata": {},
   "outputs": [],
   "source": [
    "## Insert solution here"
   ]
  }
 ],
 "metadata": {
  "kernelspec": {
   "display_name": "Python 3",
   "language": "python",
   "name": "python3"
  },
  "language_info": {
   "codemirror_mode": {
    "name": "ipython",
    "version": 3
   },
   "file_extension": ".py",
   "mimetype": "text/x-python",
   "name": "python",
   "nbconvert_exporter": "python",
   "pygments_lexer": "ipython3",
   "version": "3.7.1"
  }
 },
 "nbformat": 4,
 "nbformat_minor": 2
}
