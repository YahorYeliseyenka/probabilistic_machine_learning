{
 "cells": [
  {
   "cell_type": "markdown",
   "metadata": {},
   "source": [
    "### 2018/2019 - Task List 4\n",
    "\n",
    "[Book](https://raw.githubusercontent.com/jonesgithub/book-1/master/ML%20Machine%20Learning-A%20Probabilistic%20Perspective.pdf)\n",
    "\n",
    "[A priori](https://en.wikipedia.org/wiki/A_priori_probability)\n",
    "\n",
    "[Likelihood](https://en.wikipedia.org/wiki/Likelihood_function)\n",
    "\n",
    "[Posteriori](https://en.wikipedia.org/wiki/Posterior_distribution)\n",
    "\n",
    "[Conjugate prior](https://en.wikipedia.org/wiki/Conjugate_prior)\n",
    "\n",
    "Pyro\n",
    "[Conditioning](http://pyro.ai/examples/intro_part_ii.html#Conditioning)\n",
    "\n",
    "Pyro [SVI](http://pyro.ai/examples/svi_part_i.html#Setup)\n",
    "\n",
    "1.  Select one attriubte from one of the datasets (Task List 3), that has distribution similar to Normal (or any known to you distribution)\n",
    "2.  Asume that you have some prior knowledge about parameters of that distribution\n",
    "3.  Create model, and apropriate guid function\n",
    "4. Learn parameter of your distribution, assume that you know STD or mean"
   ]
  },
  {
   "cell_type": "markdown",
   "metadata": {},
   "source": [
    "## Required imports"
   ]
  },
  {
   "cell_type": "code",
   "execution_count": 2,
   "metadata": {},
   "outputs": [],
   "source": [
    "%matplotlib inline\n",
    "import pyro\n",
    "import torch\n",
    "import numpy as np\n",
    "import matplotlib.pyplot as plt\n",
    "import pyro.optim as optim\n",
    "import pyro.distributions as dist\n",
    "from pyro.optim import Adam\n",
    "from torch.distributions import constraints\n",
    "from tqdm import tqdm\n",
    "from matplotlib import animation, rc\n",
    "from IPython.display import HTML"
   ]
  },
  {
   "cell_type": "markdown",
   "metadata": {},
   "source": [
    "#  Example of SVI"
   ]
  },
  {
   "cell_type": "markdown",
   "metadata": {},
   "source": [
    "Generate some sample data of weight measurments"
   ]
  },
  {
   "cell_type": "code",
   "execution_count": 2,
   "metadata": {},
   "outputs": [],
   "source": [
    "mean, var = 100, 10\n",
    "with pyro.plate(\"generator\", 1000) as _:\n",
    "    data = pyro.sample('data', pyro.distributions.Normal(mean, var))\n",
    "    \n",
    "prior_mean=80\n"
   ]
  },
  {
   "cell_type": "code",
   "execution_count": 3,
   "metadata": {},
   "outputs": [
    {
     "data": {
      "text/plain": [
       "tensor([ 95.4234,  91.9907, 100.7466,  89.1997, 101.8883, 122.0477, 100.4245,\n",
       "         86.7995, 100.7058,  86.5810,  91.2895, 104.6488,  84.8831, 113.3669,\n",
       "        104.3026,  96.2027,  69.5073,  98.1264, 112.5720, 113.0000, 100.6298,\n",
       "        104.1905, 100.8346,  93.3379, 103.2327,  83.3900, 107.7975,  92.1296,\n",
       "        122.7577,  93.8582,  93.5768,  88.9892,  83.6783, 112.7109,  95.3304,\n",
       "        111.8702,  96.2187,  99.2032,  97.8818,  99.3346,  79.8293, 111.7003,\n",
       "        104.2620, 105.5824, 118.9131, 106.2653, 101.3109, 104.8326, 102.9096,\n",
       "         83.2115, 101.7455, 110.3426,  72.2827,  94.7016, 104.0386,  94.5401,\n",
       "         91.2604, 120.4125, 102.8953,  95.4149,  98.6408, 110.7426,  85.3358,\n",
       "         80.0035,  94.4924,  89.9138, 100.6962, 107.5800, 107.8648,  89.7420,\n",
       "        101.5030, 110.8555, 105.0312, 118.8183,  95.4222, 112.1528, 108.7940,\n",
       "         98.4138,  96.9494, 101.0511,  93.0375,  96.0484, 108.4716, 118.6090,\n",
       "        101.9533, 106.7438,  94.4586,  91.5254, 104.8110, 112.5830,  98.8016,\n",
       "        114.2742,  96.5069,  88.2214,  97.1924, 111.1105,  97.4253, 102.6817,\n",
       "         96.1742,  96.8975, 113.6830,  94.6681,  92.6482,  98.6979,  93.9765,\n",
       "        104.1085, 100.6544,  97.5458,  97.0362,  91.7916,  96.5688,  91.7172,\n",
       "        104.4475,  97.2960, 100.8705,  90.8336,  99.6246, 110.6083,  91.0204,\n",
       "        100.4647, 102.5771,  86.3122,  88.0534, 104.1463,  98.3553,  96.2479,\n",
       "        112.3980,  96.0116, 100.6716, 102.0714,  95.5741,  97.1318,  95.0279,\n",
       "         93.9190,  95.1775,  89.8380, 101.9268, 111.3629,  84.6597,  99.8755,\n",
       "        110.6528, 103.7103,  86.1481, 111.2432,  97.2150, 101.0889,  84.2812,\n",
       "        102.9992,  96.0907,  95.0303,  88.6262,  82.2830, 100.8309,  95.8980,\n",
       "        103.0719,  96.3393,  90.3357,  99.5152,  80.9962,  93.0208, 101.9069,\n",
       "        110.1797, 131.4419,  96.1948, 120.5569,  81.7121, 104.0594, 108.4211,\n",
       "         92.1424,  89.6335, 108.9413,  98.0312, 111.9419,  97.6404, 106.8829,\n",
       "        102.8372,  91.8294, 103.3518, 104.7407,  96.7597, 109.0191,  88.5818,\n",
       "         98.0187,  93.1794, 103.0676,  89.8667,  91.2371,  88.6310, 101.3474,\n",
       "        102.9810,  91.0969, 106.8695, 105.3071, 105.9189,  87.4567,  82.4711,\n",
       "         75.5473,  87.0682, 115.4301,  94.7801,  85.2957, 114.5353,  83.1629,\n",
       "         88.7415, 101.5017, 102.5577, 101.9731,  93.4324, 109.8464,  75.0732,\n",
       "        107.7495,  86.0973,  95.9662,  88.7122, 108.2736, 111.0337, 105.9911,\n",
       "        102.7644, 114.9006, 113.0628, 113.5312, 105.2225,  88.1907,  90.8324,\n",
       "        103.3861, 109.2413, 108.5587, 101.4170,  98.4821, 101.0502,  93.1189,\n",
       "         99.4354, 100.5531,  83.3383, 105.6709, 106.6087, 102.4583,  69.5154,\n",
       "        110.2519, 108.6887,  89.7527, 112.0146,  89.4519,  92.3024,  75.2659,\n",
       "        110.6079, 106.8202, 111.6480, 105.5515, 113.0373, 104.3616, 114.7293,\n",
       "        100.6192, 103.1649,  94.4583,  95.1928, 105.3054, 103.2953, 104.4656,\n",
       "        121.1057, 110.4096,  96.3237, 107.8702, 100.4914,  89.2465,  79.2436,\n",
       "        113.7394,  98.0059,  91.0217, 109.9310,  85.3196, 113.7410,  90.6610,\n",
       "         96.4165,  93.5599,  97.2656, 119.2246, 104.7789,  91.2912,  89.4647,\n",
       "         98.3938, 107.0623, 105.5849,  94.5576, 104.0409, 103.9739, 111.5950,\n",
       "         86.2183,  93.3102, 102.6531, 106.8328, 101.7907,  83.0065, 102.5251,\n",
       "        103.6044,  84.6535,  98.0398,  95.0036, 101.6202,  98.2501, 102.5542,\n",
       "         96.1047, 110.2639,  88.2029,  93.5039,  94.8138,  87.8139, 101.7084,\n",
       "        109.8862,  83.3889,  90.8370,  92.9438, 100.8566, 103.7850,  97.8885,\n",
       "         89.6139, 104.7274,  93.0672,  93.0065,  99.5389, 103.5692,  92.3541,\n",
       "         87.7216, 107.6190,  91.2004,  92.2406, 115.4980, 104.7354, 119.8060,\n",
       "        110.2052, 102.5275, 103.3475,  99.7910,  86.2061,  88.7035, 106.5297,\n",
       "         98.9662, 115.8211,  95.0288, 104.0514, 107.2878, 100.9615,  93.0812,\n",
       "         94.1191, 111.0451,  94.3737,  96.2415,  99.4394, 123.7497, 114.6949,\n",
       "         96.9180,  91.7307,  91.7602, 107.7943,  86.3811,  99.8882,  92.8796,\n",
       "         89.5080, 112.1657, 111.8740, 108.4797,  92.9613, 116.2682,  94.3885,\n",
       "        100.7287, 106.2803, 105.2976,  89.8642, 128.9477,  93.6581, 101.2230,\n",
       "        110.8093,  99.1526, 109.8262, 112.8636, 101.3156,  96.5459,  97.2559,\n",
       "         99.1558,  98.9457, 116.3228, 104.1152,  99.0668,  90.8739, 105.8993,\n",
       "         92.8654, 107.3624, 101.6535,  94.9633,  90.5766,  87.7886,  95.4959,\n",
       "        102.8164, 108.2887,  94.8253, 105.9515, 101.6631,  99.6199, 116.3327,\n",
       "        114.1118,  97.0473, 106.4027,  86.1376,  88.9230,  94.4715, 106.2115,\n",
       "         97.2273,  88.0178, 100.7482, 100.5396, 109.7718,  98.4945, 104.7020,\n",
       "        109.6522, 100.4591, 101.2116, 110.0762, 118.2225, 106.9026, 107.6592,\n",
       "        106.5271,  93.8016,  97.7519,  92.7026,  98.8992, 117.1918,  98.4935,\n",
       "        113.7082,  82.2111,  93.8323, 108.0552,  94.7052, 109.5214,  85.9003,\n",
       "        125.3492,  93.5802, 109.3143,  83.3472, 104.9485, 103.0518,  95.1371,\n",
       "         93.7768,  84.6334, 115.8776, 101.9345, 109.2363, 109.1862,  98.5270,\n",
       "         82.4465,  90.4217,  97.4340, 118.0541, 100.2037,  94.3719, 105.4162,\n",
       "         85.2306,  97.1687,  89.4487,  97.4041, 111.4469, 100.0576,  91.4524,\n",
       "        107.3076, 116.6314,  91.9484,  89.0733,  88.2624, 115.4303,  83.8670,\n",
       "        109.7534,  99.6828,  97.4891, 105.9749,  95.2139, 110.7653, 115.8545,\n",
       "        101.0494,  94.3739,  97.8046,  97.3659, 112.7923,  69.5875,  82.5458,\n",
       "         93.5049,  88.2937, 117.0242, 103.6742, 109.7743,  86.7032,  97.0756,\n",
       "        102.0238, 120.5744,  85.6360, 103.2334, 102.4208, 111.7739,  99.3646,\n",
       "         92.3140, 104.5220,  90.0246, 119.1478, 102.9237,  84.7812,  67.8775,\n",
       "         97.8714,  89.2020, 112.2463, 107.8701, 103.3681, 109.7943,  90.8434,\n",
       "         95.7808,  85.7317,  89.0895, 113.2127, 113.1552, 113.9605,  94.8872,\n",
       "         94.5206,  96.5323,  98.4560, 109.0786, 101.8488, 113.3578, 101.7911,\n",
       "        102.5107, 115.8842, 103.7170,  86.2572,  93.5969,  93.9738,  98.0100,\n",
       "        118.9579, 104.4237,  93.1082,  81.2251, 103.7906,  92.8670,  92.6820,\n",
       "         77.6101,  94.3406, 101.2145, 110.8255, 103.3225, 118.4692, 101.9343,\n",
       "        107.4574,  97.3526,  88.0138,  93.8301,  89.5955,  90.4615, 101.3149,\n",
       "        111.8574,  98.5012,  98.4570, 106.0533,  91.5784, 123.2600,  98.7048,\n",
       "         94.0930, 111.0314,  93.6267,  99.9171, 107.6682,  86.9596,  90.7318,\n",
       "        108.4067,  98.7357, 102.9934, 100.2348, 106.2080,  81.4656, 109.4712,\n",
       "         94.2979,  98.3275,  88.2724,  89.9263,  92.1368,  97.9326, 109.8104,\n",
       "         79.4737,  92.8995, 103.0090,  80.0119, 111.1937, 116.1588, 105.2778,\n",
       "        101.0979,  99.8239, 118.8606,  92.8713, 106.6487, 104.7809,  97.1602,\n",
       "         90.7599, 108.0086, 107.8238, 106.4550, 100.2723,  97.4805, 106.6841,\n",
       "        101.3052, 117.4406, 110.7071, 103.8076,  97.0285, 102.3467, 112.7415,\n",
       "         94.1397, 109.4916,  91.2425,  94.4161,  87.2699,  83.5004,  92.3567,\n",
       "         99.8332, 104.9529,  99.4337,  90.5693,  93.4763,  97.4510,  81.7065,\n",
       "        105.0011,  97.1971, 103.9729, 106.0410,  89.0132, 100.8836, 111.1922,\n",
       "         91.8222,  86.1035,  81.7784, 103.3746,  98.8351, 107.0967, 102.4145,\n",
       "        118.7973,  99.0604,  82.2939, 100.8192,  80.2218,  96.2631, 109.6656,\n",
       "        117.4299,  93.1988,  99.5923, 105.0693, 114.2667, 101.4039, 103.9612,\n",
       "         93.5581, 106.1205,  99.1436,  94.9663, 103.2980,  99.4400,  88.2780,\n",
       "        107.8319,  92.3980,  94.1163, 101.0557,  90.2089,  85.4166,  95.0653,\n",
       "        103.9921, 102.0247,  90.6971, 103.4773, 108.1660, 105.9616, 101.2587,\n",
       "         97.0136,  92.8125, 120.0362,  92.8911, 110.9725, 101.5487, 111.0555,\n",
       "         89.8702,  97.9413,  89.2446, 100.8242,  92.5104, 107.1184,  83.3608,\n",
       "         99.2151,  80.2554, 113.2752, 111.8326, 109.0177,  95.2564, 107.7575,\n",
       "         99.3069,  94.8932, 103.7330, 103.3714,  99.8862, 100.0002,  82.5539,\n",
       "        110.0750,  87.5665, 107.7849,  95.6228,  98.8627, 107.3311,  91.3180,\n",
       "         76.6301,  92.2797,  99.2115, 108.5071, 102.2616, 109.9266,  97.6218,\n",
       "         99.9037, 102.3136,  90.8725, 105.2592, 114.4220, 103.7819, 103.7599,\n",
       "         89.6358, 103.7578,  91.8960, 100.2615, 110.9049, 106.1587, 109.8341,\n",
       "        107.0035, 103.5804, 109.1940,  93.0799,  95.3868,  84.9172, 126.0162,\n",
       "         96.6823,  88.1259,  80.2925,  91.3085, 106.8497, 110.0232, 101.6694,\n",
       "         89.6077,  84.0434, 102.9195, 102.0972, 102.7518, 117.0691, 112.1622,\n",
       "         89.2559, 103.8140,  82.0295,  86.1592, 106.1280, 113.3213,  90.8607,\n",
       "        103.8855, 126.3651, 117.5719,  90.0653,  82.3090, 106.4612,  96.5873,\n",
       "        100.7811,  80.9862,  97.8154, 104.2981, 111.4784, 109.9497, 109.8674,\n",
       "         94.1087, 109.4812,  90.3497,  88.9915, 108.6241,  96.3107, 113.6284,\n",
       "         83.5298,  94.6262, 105.3319, 103.0236,  94.2965,  96.2904, 101.4053,\n",
       "         93.0029,  90.2349,  98.2637, 105.0722,  99.9642,  96.8461,  94.2757,\n",
       "        110.2249, 104.2675,  88.7701,  92.7773,  82.9779, 112.2713, 106.1776,\n",
       "        100.6259,  69.7655, 102.1870,  76.2758, 101.4720,  96.1889,  99.0814,\n",
       "         85.2802,  94.3721, 110.6523, 106.0822, 105.3213, 104.8562, 116.3753,\n",
       "         81.0416, 108.6973, 106.8784,  97.5839, 106.2594, 102.4398, 106.0633,\n",
       "        109.0069, 123.0398, 105.3306,  97.7515,  98.7706,  92.7713, 114.1857,\n",
       "         92.9045,  94.9454, 113.0436,  95.2249,  90.1989, 114.1642,  99.2220,\n",
       "        109.2687, 109.0757, 110.4554, 116.2887,  96.4713,  86.7057,  87.5784,\n",
       "         84.0331,  97.3840,  92.9827, 109.1971, 116.0034, 107.4612, 105.8829,\n",
       "        117.9595, 101.2739,  81.2334, 106.5086, 105.9956,  88.9629,  88.9440,\n",
       "        109.4728,  93.2267,  99.6476,  91.0118,  91.6610, 114.9925,  94.0942,\n",
       "        104.9512,  98.5336, 104.4032, 108.4590, 113.0894, 114.7329, 105.9619,\n",
       "        100.6257, 101.1228, 105.9888, 101.4313, 104.7082, 105.9223,  96.4028,\n",
       "        101.1219,  86.0021, 118.4431,  79.7729,  95.4998, 106.9521, 110.3966,\n",
       "        118.7032, 116.0184,  93.0619,  82.4724,  98.1583, 108.0003, 108.3359,\n",
       "         95.3879,  92.2694, 105.7622, 107.1987,  70.3520,  87.4091,  81.2311,\n",
       "        114.0069,  89.9297,  90.0580,  95.9263, 111.5482,  98.8082, 101.9136,\n",
       "        110.2242,  83.2682,  97.2861, 117.8585, 116.3749, 107.0522,  95.4254,\n",
       "         88.7545,  98.9200, 106.6507, 100.9375,  89.3100, 112.0961, 112.7527,\n",
       "         90.4191, 110.4269, 106.4833, 101.3051,  97.5198,  96.6879, 102.1856,\n",
       "        104.1088,  96.5804, 100.6230, 110.8713,  88.4435, 102.3424,  97.6008,\n",
       "         96.0486,  89.9830, 102.4141, 102.9466, 111.8612, 103.9066, 101.8033,\n",
       "         87.9126, 122.5128,  90.7840, 108.6033,  93.0894,  98.0380, 101.2762,\n",
       "         92.9899,  97.6321,  96.6733,  90.6368,  79.1514, 108.5503,  97.3380,\n",
       "         93.4697, 105.8014,  96.5625,  88.8931,  90.4645, 102.3099,  90.9835,\n",
       "         93.9229,  93.0467, 117.9802, 104.6309,  86.3626,  90.3168, 109.6288,\n",
       "         84.7994,  88.0847,  84.6254,  87.8803,  94.4879,  93.2224, 104.6084,\n",
       "         99.6218,  97.5354,  94.2266,  95.3614, 107.0122,  93.4066,  80.6353,\n",
       "        113.3918, 101.9589, 100.7575,  91.7348, 105.9395, 102.5305, 111.1301,\n",
       "         99.8002,  71.9349,  96.4706,  79.2673,  91.1703,  94.8887,  90.4217,\n",
       "        110.3291,  89.7934, 112.7935, 111.9791,  87.8402,  97.1344])"
      ]
     },
     "execution_count": 3,
     "metadata": {},
     "output_type": "execute_result"
    }
   ],
   "source": [
    "data"
   ]
  },
  {
   "cell_type": "code",
   "execution_count": 4,
   "metadata": {},
   "outputs": [
    {
     "data": {
      "text/plain": [
       "tensor(99.6949)"
      ]
     },
     "execution_count": 4,
     "metadata": {},
     "output_type": "execute_result"
    }
   ],
   "source": [
    "data.mean()"
   ]
  },
  {
   "cell_type": "code",
   "execution_count": 5,
   "metadata": {},
   "outputs": [
    {
     "data": {
      "text/plain": [
       "tensor(9.9380)"
      ]
     },
     "execution_count": 5,
     "metadata": {},
     "output_type": "execute_result"
    }
   ],
   "source": [
    "data.std()"
   ]
  },
  {
   "cell_type": "markdown",
   "metadata": {},
   "source": [
    "Create model. We use prior belief about input values, and condition on data"
   ]
  },
  {
   "cell_type": "code",
   "execution_count": 6,
   "metadata": {},
   "outputs": [],
   "source": [
    "def model(data):  # equivalent to conditioned_scale above\n",
    "    weight = pyro.sample(\"weight\", pyro.distributions.Normal(prior_mean, 1.))\n",
    "    pyro.sample(\"measurement\", pyro.distributions.Normal(weight, 1.), obs=data)"
   ]
  },
  {
   "cell_type": "markdown",
   "metadata": {},
   "source": [
    "Create guid function that has corresponging weight laten variable. We use one parameter mean with starting value 150, assuming std to be 10"
   ]
  },
  {
   "cell_type": "code",
   "execution_count": 7,
   "metadata": {},
   "outputs": [],
   "source": [
    "def guide(data):\n",
    "    mean = pyro.param(\"mean\", torch.tensor(150.), constraint=constraints.positive)\n",
    "    return pyro.sample(\"weight\", pyro.distributions.Normal(mean, 10))\n"
   ]
  },
  {
   "cell_type": "markdown",
   "metadata": {},
   "source": [
    "Create SVI with Adam optimizer, ELBO loss, our guide and model"
   ]
  },
  {
   "cell_type": "code",
   "execution_count": 8,
   "metadata": {},
   "outputs": [],
   "source": [
    "optim = Adam({\"lr\": 0.0003})\n",
    "svi = pyro.infer.SVI(model=model,\n",
    "                     guide=guide,\n",
    "                     optim=optim,\n",
    "                     loss=pyro.infer.Trace_ELBO(), num_samples=len(data))"
   ]
  },
  {
   "cell_type": "markdown",
   "metadata": {},
   "source": [
    "Train the model"
   ]
  },
  {
   "cell_type": "code",
   "execution_count": 9,
   "metadata": {},
   "outputs": [
    {
     "name": "stderr",
     "output_type": "stream",
     "text": [
      "100%|█████████████████████████████████████████████████████████████████████████████| 6000/6000 [00:08<00:00, 719.22it/s]\n"
     ]
    }
   ],
   "source": [
    "pyro.clear_param_store()\n",
    "losses, mean  = [], []\n",
    "num_steps = 6000\n",
    "for t in tqdm(range(num_steps)):\n",
    "    losses.append(svi.step(data))\n",
    "    mean.append(pyro.param(\"mean\"))\n"
   ]
  },
  {
   "cell_type": "markdown",
   "metadata": {},
   "source": [
    "Plot loss"
   ]
  },
  {
   "cell_type": "code",
   "execution_count": 10,
   "metadata": {},
   "outputs": [
    {
     "name": "stdout",
     "output_type": "stream",
     "text": [
      "learned mean =  tensor(99.9110, grad_fn=<AddBackward0>)\n"
     ]
    },
    {
     "data": {
      "image/png": "[encoded data removed]",
      "text/plain": [
       "<Figure size 432x288 with 1 Axes>"
      ]
     },
     "metadata": {
      "needs_background": "light"
     },
     "output_type": "display_data"
    }
   ],
   "source": [
    "plt.plot(losses)\n",
    "plt.title(\"evidence lower bound (ELBO)\")\n",
    "plt.xlabel(\"step\")\n",
    "plt.ylabel(\"loss\");\n",
    "print('learned mean = ',pyro.param(\"mean\"))"
   ]
  },
  {
   "cell_type": "code",
   "execution_count": 11,
   "metadata": {},
   "outputs": [
    {
     "data": {
      "text/plain": [
       "Text(0, 0.5, 'mean')"
      ]
     },
     "execution_count": 11,
     "metadata": {},
     "output_type": "execute_result"
    },
    {
     "data": {
      "image/png": "[encoded data removed]",
      "text/plain": [
       "<Figure size 432x288 with 1 Axes>"
      ]
     },
     "metadata": {
      "needs_background": "light"
     },
     "output_type": "display_data"
    }
   ],
   "source": [
    "plt.subplot(1,2,1)\n",
    "plt.plot([0,num_steps],[data.mean(),data.mean()], 'k:')\n",
    "plt.plot(mean)\n",
    "plt.ylabel('mean')"
   ]
  },
  {
   "cell_type": "markdown",
   "metadata": {},
   "source": [
    "## Task"
   ]
  },
  {
   "cell_type": "code",
   "execution_count": 3,
   "metadata": {},
   "outputs": [
    {
     "name": "stdout",
     "output_type": "stream",
     "text": [
      "Index(['sex', 'length', 'diameter', 'height', 'whole_weight', 'shucked_weight',\n",
      "       'viscera_weight', 'shell_weight', 'rings'],\n",
      "      dtype='object')\n"
     ]
    }
   ],
   "source": [
    "import csv\n",
    "import pandas as pd\n",
    "import seaborn as sns\n",
    "\n",
    "pyro.enable_validation(True)\n",
    "\n",
    "abaloneData = pd.read_table('abalone_data.csv', sep=',')\n",
    "print(abaloneData.keys())"
   ]
  },
  {
   "cell_type": "code",
   "execution_count": 4,
   "metadata": {},
   "outputs": [
    {
     "name": "stderr",
     "output_type": "stream",
     "text": [
      "C:\\ProgramData\\Anaconda3\\lib\\site-packages\\scipy\\stats\\stats.py:1713: FutureWarning: Using a non-tuple sequence for multidimensional indexing is deprecated; use `arr[tuple(seq)]` instead of `arr[seq]`. In the future this will be interpreted as an array index, `arr[np.array(seq)]`, which will result either in an error or a different result.\n",
      "  return np.add.reduce(sorted[indexer] * weights, axis=axis) / sumval\n"
     ]
    },
    {
     "data": {
      "text/plain": [
       "(array([0.0120709 , 0.0120709 , 0.13277995, 0.2655599 , 0.28970171,\n",
       "        0.24141809, 0.47076528, 0.82082151, 0.88117603, 0.94153055,\n",
       "        1.52093397, 1.68992663, 1.67785572, 1.8830611 , 2.63145718,\n",
       "        2.77630803, 3.44020778, 3.58505863, 3.57298773, 4.35759652,\n",
       "        4.34552562, 4.50244738, 3.87476034, 2.89701708, 1.68992663,\n",
       "        1.02602688, 0.60354522, 0.19313447, 0.07242543, 0.0120709 ]),\n",
       " array([0.055     , 0.07483333, 0.09466667, 0.1145    , 0.13433333,\n",
       "        0.15416667, 0.174     , 0.19383333, 0.21366667, 0.2335    ,\n",
       "        0.25333333, 0.27316667, 0.293     , 0.31283333, 0.33266667,\n",
       "        0.3525    , 0.37233333, 0.39216667, 0.412     , 0.43183333,\n",
       "        0.45166667, 0.4715    , 0.49133333, 0.51116667, 0.531     ,\n",
       "        0.55083333, 0.57066667, 0.5905    , 0.61033333, 0.63016667,\n",
       "        0.65      ]),\n",
       " <a list of 30 Patch objects>)"
      ]
     },
     "execution_count": 4,
     "metadata": {},
     "output_type": "execute_result"
    },
    {
     "data": {
      "image/png": "[encoded data removed]",
      "text/plain": [
       "<Figure size 432x288 with 1 Axes>"
      ]
     },
     "metadata": {
      "needs_background": "light"
     },
     "output_type": "display_data"
    }
   ],
   "source": [
    "sns.kdeplot(abaloneData.diameter.values, shade=False)\n",
    "plt.hist(np.array(abaloneData.diameter.values), density=True, bins=30)"
   ]
  },
  {
   "cell_type": "code",
   "execution_count": 5,
   "metadata": {},
   "outputs": [],
   "source": [
    "data = torch.FloatTensor(abaloneData.diameter.values)"
   ]
  },
  {
   "cell_type": "code",
   "execution_count": 6,
   "metadata": {},
   "outputs": [
    {
     "name": "stdout",
     "output_type": "stream",
     "text": [
      "0.40788126\n",
      "0.09922799\n"
     ]
    }
   ],
   "source": [
    "# sns.kdeplot(np.array(data), shade=False)\n",
    "\n",
    "print((np.array(data)).mean())\n",
    "print((np.array(data)).std())"
   ]
  },
  {
   "cell_type": "code",
   "execution_count": 7,
   "metadata": {},
   "outputs": [],
   "source": [
    "prior_mean=1.0\n",
    "noise_std=0.01\n",
    "\n",
    "def get_model(data):  # equivalent to conditioned_scale above\n",
    "    prior=pyro.distributions.Normal(prior_mean, 1.)\n",
    "    weight = pyro.sample(\"weight\", prior)\n",
    "    with pyro.plate(\"map\", len(data)):\n",
    "        pyro.sample(\"measurement\", pyro.distributions.Normal(weight, noise_std), obs=data)\n",
    "    \n",
    "def get_guide(data):\n",
    "    mean = pyro.param(\"mean\", torch.tensor(0.6), constraint=constraints.positive)\n",
    "    return pyro.sample(\"weight\", pyro.distributions.Normal(mean, 0.01))\n",
    "\n",
    "model = get_model\n",
    "guide = get_guide\n",
    "\n",
    "optim = Adam({\"lr\": 0.0003})\n",
    "svi = pyro.infer.SVI(model=model,\n",
    "                     guide=guide,\n",
    "                     optim=optim,\n",
    "                     loss=pyro.infer.Trace_ELBO(), num_samples=len(data))"
   ]
  },
  {
   "cell_type": "code",
   "execution_count": 14,
   "metadata": {},
   "outputs": [
    {
     "name": "stderr",
     "output_type": "stream",
     "text": [
      "100%|█████████████████████████████████████████████████████████████████████████████| 6000/6000 [00:14<00:00, 424.60it/s]\n"
     ]
    }
   ],
   "source": [
    "pyro.clear_param_store()\n",
    "losses, mean  = [], []\n",
    "num_steps = 6000\n",
    "for t in tqdm(range(num_steps)):\n",
    "    losses.append(svi.step(data))\n",
    "    mean.append(pyro.param(\"mean\"))"
   ]
  },
  {
   "cell_type": "code",
   "execution_count": 145,
   "metadata": {},
   "outputs": [
    {
     "name": "stdout",
     "output_type": "stream",
     "text": [
      "learned mean =  tensor(0.4094, grad_fn=<AddBackward0>)\n"
     ]
    },
    {
     "data": {
      "image/png": "[encoded data removed]",
      "text/plain": [
       "<Figure size 432x288 with 1 Axes>"
      ]
     },
     "metadata": {
      "needs_background": "light"
     },
     "output_type": "display_data"
    }
   ],
   "source": [
    "plt.plot(losses)\n",
    "plt.title(\"evidence lower bound (ELBO)\")\n",
    "plt.xlabel(\"step\")\n",
    "plt.ylabel(\"loss\");\n",
    "print('learned mean = ',pyro.param(\"mean\"))"
   ]
  },
  {
   "cell_type": "code",
   "execution_count": 146,
   "metadata": {},
   "outputs": [
    {
     "data": {
      "text/plain": [
       "Text(0, 0.5, 'mean')"
      ]
     },
     "execution_count": 146,
     "metadata": {},
     "output_type": "execute_result"
    },
    {
     "data": {
      "image/png": "[encoded data removed]",
      "text/plain": [
       "<Figure size 432x288 with 1 Axes>"
      ]
     },
     "metadata": {
      "needs_background": "light"
     },
     "output_type": "display_data"
    }
   ],
   "source": [
    "plt.subplot(1,2,1)\n",
    "plt.plot([0,num_steps],[data.mean(),data.mean()], 'k:')\n",
    "plt.plot(mean)\n",
    "plt.ylabel('mean')"
   ]
  },
  {
   "cell_type": "code",
   "execution_count": 114,
   "metadata": {},
   "outputs": [],
   "source": [
    "# with pyro.plate(\"generator\", 1000) as _:\n",
    "#     data_t = pyro.sample('data', pyro.distributions.Exponential(torch.tensor([1.0])))\n",
    "    \n",
    "# sns.kdeplot(np.array(data_t), shade=False)"
   ]
  },
  {
   "cell_type": "code",
   "execution_count": null,
   "metadata": {},
   "outputs": [],
   "source": []
  }
 ],
 "metadata": {
  "kernelspec": {
   "display_name": "Python 3",
   "language": "python",
   "name": "python3"
  },
  "language_info": {
   "codemirror_mode": {
    "name": "ipython",
    "version": 3
   },
   "file_extension": ".py",
   "mimetype": "text/x-python",
   "name": "python",
   "nbconvert_exporter": "python",
   "pygments_lexer": "ipython3",
   "version": "3.7.3"
  }
 },
 "nbformat": 4,
 "nbformat_minor": 2
}
